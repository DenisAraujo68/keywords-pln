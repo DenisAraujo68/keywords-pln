{
 "cells": [
  {
   "cell_type": "markdown",
   "metadata": {},
   "source": [
    "# Semana Acadêmica Feevale - set/2019"
   ]
  },
  {
   "cell_type": "markdown",
   "metadata": {},
   "source": [
    "### Carregando os dados"
   ]
  },
  {
   "cell_type": "code",
   "execution_count": 1,
   "metadata": {},
   "outputs": [],
   "source": [
    "from pandas_ods_reader import read_ods\n",
    "\n",
    "df = read_ods(\"Perguntas+Respostas.ods\",1).astype(str)\n",
    "all_columns = list(df)\n",
    "df[all_columns] = df[all_columns].astype(str)"
   ]
  },
  {
   "cell_type": "code",
   "execution_count": 2,
   "metadata": {},
   "outputs": [
    {
     "data": {
      "text/html": [
       "<div>\n",
       "<style scoped>\n",
       "    .dataframe tbody tr th:only-of-type {\n",
       "        vertical-align: middle;\n",
       "    }\n",
       "\n",
       "    .dataframe tbody tr th {\n",
       "        vertical-align: top;\n",
       "    }\n",
       "\n",
       "    .dataframe thead th {\n",
       "        text-align: right;\n",
       "    }\n",
       "</style>\n",
       "<table border=\"1\" class=\"dataframe\">\n",
       "  <thead>\n",
       "    <tr style=\"text-align: right;\">\n",
       "      <th></th>\n",
       "      <th>Categoria</th>\n",
       "      <th>Pergunta</th>\n",
       "      <th>Resposta</th>\n",
       "    </tr>\n",
       "  </thead>\n",
       "  <tbody>\n",
       "    <tr>\n",
       "      <th>0</th>\n",
       "      <td>Compra e pagamento</td>\n",
       "      <td>Onde posso comprar ingressos para shows e espe...</td>\n",
       "      <td>Ingressos podem ser adquiridos nos canais de v...</td>\n",
       "    </tr>\n",
       "    <tr>\n",
       "      <th>1</th>\n",
       "      <td>Compra e pagamento</td>\n",
       "      <td>Posso comprar ingressos no dia do evento?</td>\n",
       "      <td>Sim! É possível comprar no dia do evento, poré...</td>\n",
       "    </tr>\n",
       "    <tr>\n",
       "      <th>2</th>\n",
       "      <td>Compra e pagamento</td>\n",
       "      <td>É possível que familiares ou amigos comprem in...</td>\n",
       "      <td>Sim, para a compra de ingressos no valor integ...</td>\n",
       "    </tr>\n",
       "    <tr>\n",
       "      <th>3</th>\n",
       "      <td>Compra e pagamento</td>\n",
       "      <td>Quais as formas de pagamento disponíveis?</td>\n",
       "      <td>Uhuu: são aceitos na bilheteria do teatro, pel...</td>\n",
       "    </tr>\n",
       "    <tr>\n",
       "      <th>4</th>\n",
       "      <td>Compra e pagamento</td>\n",
       "      <td>É possível parcelar no cartão de crédito?</td>\n",
       "      <td>Via de regra, não é possível. Em casos especia...</td>\n",
       "    </tr>\n",
       "    <tr>\n",
       "      <th>5</th>\n",
       "      <td>Compra e pagamento</td>\n",
       "      <td>Tenho receio de informar meus dados pessoais. ...</td>\n",
       "      <td>Seus dados estão seguros, fique tranquilo! As ...</td>\n",
       "    </tr>\n",
       "    <tr>\n",
       "      <th>6</th>\n",
       "      <td>Compra e pagamento</td>\n",
       "      <td>Como sei que a compra online foi efetuada? Não...</td>\n",
       "      <td>Compras efetuadas pela internet estarão sujeit...</td>\n",
       "    </tr>\n",
       "    <tr>\n",
       "      <th>7</th>\n",
       "      <td>Compra e pagamento</td>\n",
       "      <td>É fornecida nota fiscal na venda de ingresso?</td>\n",
       "      <td>O ingresso é o próprio comprovante fiscal do c...</td>\n",
       "    </tr>\n",
       "    <tr>\n",
       "      <th>8</th>\n",
       "      <td>Compra e pagamento</td>\n",
       "      <td>É possível conseguir uma nota fiscal apenas na...</td>\n",
       "      <td>Infelizmente não é possível, pois cada ingress...</td>\n",
       "    </tr>\n",
       "    <tr>\n",
       "      <th>9</th>\n",
       "      <td>Compra e pagamento</td>\n",
       "      <td>Como devo conservar meu ingresso?</td>\n",
       "      <td>A guarda e conservação dos ingressos são de in...</td>\n",
       "    </tr>\n",
       "    <tr>\n",
       "      <th>10</th>\n",
       "      <td>Taxa de conveniência</td>\n",
       "      <td>O que é a taxa de conveniência? Por que ela é ...</td>\n",
       "      <td>A taxa de conveniência é cobrada para garantir...</td>\n",
       "    </tr>\n",
       "    <tr>\n",
       "      <th>11</th>\n",
       "      <td>Taxa de conveniência</td>\n",
       "      <td>Há possibilidade de devolução de taxas em caso...</td>\n",
       "      <td>Infelizmente não é possível a devolução de tax...</td>\n",
       "    </tr>\n",
       "    <tr>\n",
       "      <th>12</th>\n",
       "      <td>Troca de sessão</td>\n",
       "      <td>É possível trocar de sessão ou de espetáculo? ...</td>\n",
       "      <td>Não é possível realizar a troca de sessão ou e...</td>\n",
       "    </tr>\n",
       "    <tr>\n",
       "      <th>13</th>\n",
       "      <td>Troca de sessão</td>\n",
       "      <td>É possível trocar o assento do meu ingresso no...</td>\n",
       "      <td>Não é possível realizar troca de assentos ou s...</td>\n",
       "    </tr>\n",
       "    <tr>\n",
       "      <th>14</th>\n",
       "      <td>Acesso: restrições e proibições</td>\n",
       "      <td>É permitido fotografar ou filmar durante o sho...</td>\n",
       "      <td>A utilização de câmeras, celulares e outros ap...</td>\n",
       "    </tr>\n",
       "  </tbody>\n",
       "</table>\n",
       "</div>"
      ],
      "text/plain": [
       "                          Categoria  \\\n",
       "0                Compra e pagamento   \n",
       "1                Compra e pagamento   \n",
       "2                Compra e pagamento   \n",
       "3                Compra e pagamento   \n",
       "4                Compra e pagamento   \n",
       "5                Compra e pagamento   \n",
       "6                Compra e pagamento   \n",
       "7                Compra e pagamento   \n",
       "8                Compra e pagamento   \n",
       "9                Compra e pagamento   \n",
       "10             Taxa de conveniência   \n",
       "11             Taxa de conveniência   \n",
       "12                  Troca de sessão   \n",
       "13                  Troca de sessão   \n",
       "14  Acesso: restrições e proibições   \n",
       "\n",
       "                                             Pergunta  \\\n",
       "0   Onde posso comprar ingressos para shows e espe...   \n",
       "1           Posso comprar ingressos no dia do evento?   \n",
       "2   É possível que familiares ou amigos comprem in...   \n",
       "3           Quais as formas de pagamento disponíveis?   \n",
       "4           É possível parcelar no cartão de crédito?   \n",
       "5   Tenho receio de informar meus dados pessoais. ...   \n",
       "6   Como sei que a compra online foi efetuada? Não...   \n",
       "7       É fornecida nota fiscal na venda de ingresso?   \n",
       "8   É possível conseguir uma nota fiscal apenas na...   \n",
       "9                   Como devo conservar meu ingresso?   \n",
       "10  O que é a taxa de conveniência? Por que ela é ...   \n",
       "11  Há possibilidade de devolução de taxas em caso...   \n",
       "12  É possível trocar de sessão ou de espetáculo? ...   \n",
       "13  É possível trocar o assento do meu ingresso no...   \n",
       "14  É permitido fotografar ou filmar durante o sho...   \n",
       "\n",
       "                                             Resposta  \n",
       "0   Ingressos podem ser adquiridos nos canais de v...  \n",
       "1   Sim! É possível comprar no dia do evento, poré...  \n",
       "2   Sim, para a compra de ingressos no valor integ...  \n",
       "3   Uhuu: são aceitos na bilheteria do teatro, pel...  \n",
       "4   Via de regra, não é possível. Em casos especia...  \n",
       "5   Seus dados estão seguros, fique tranquilo! As ...  \n",
       "6   Compras efetuadas pela internet estarão sujeit...  \n",
       "7   O ingresso é o próprio comprovante fiscal do c...  \n",
       "8   Infelizmente não é possível, pois cada ingress...  \n",
       "9   A guarda e conservação dos ingressos são de in...  \n",
       "10  A taxa de conveniência é cobrada para garantir...  \n",
       "11  Infelizmente não é possível a devolução de tax...  \n",
       "12  Não é possível realizar a troca de sessão ou e...  \n",
       "13  Não é possível realizar troca de assentos ou s...  \n",
       "14  A utilização de câmeras, celulares e outros ap...  "
      ]
     },
     "execution_count": 2,
     "metadata": {},
     "output_type": "execute_result"
    }
   ],
   "source": [
    "df[:15]"
   ]
  },
  {
   "cell_type": "markdown",
   "metadata": {},
   "source": [
    "### Removendo maiúsculas"
   ]
  },
  {
   "cell_type": "code",
   "execution_count": 3,
   "metadata": {
    "scrolled": true
   },
   "outputs": [
    {
     "data": {
      "text/html": [
       "<div>\n",
       "<style scoped>\n",
       "    .dataframe tbody tr th:only-of-type {\n",
       "        vertical-align: middle;\n",
       "    }\n",
       "\n",
       "    .dataframe tbody tr th {\n",
       "        vertical-align: top;\n",
       "    }\n",
       "\n",
       "    .dataframe thead th {\n",
       "        text-align: right;\n",
       "    }\n",
       "</style>\n",
       "<table border=\"1\" class=\"dataframe\">\n",
       "  <thead>\n",
       "    <tr style=\"text-align: right;\">\n",
       "      <th></th>\n",
       "      <th>Categoria</th>\n",
       "      <th>Pergunta</th>\n",
       "      <th>Resposta</th>\n",
       "    </tr>\n",
       "  </thead>\n",
       "  <tbody>\n",
       "    <tr>\n",
       "      <th>0</th>\n",
       "      <td>compra e pagamento</td>\n",
       "      <td>onde posso comprar ingressos para shows e espe...</td>\n",
       "      <td>ingressos podem ser adquiridos nos canais de v...</td>\n",
       "    </tr>\n",
       "    <tr>\n",
       "      <th>1</th>\n",
       "      <td>compra e pagamento</td>\n",
       "      <td>posso comprar ingressos no dia do evento?</td>\n",
       "      <td>sim! é possível comprar no dia do evento, poré...</td>\n",
       "    </tr>\n",
       "    <tr>\n",
       "      <th>2</th>\n",
       "      <td>compra e pagamento</td>\n",
       "      <td>é possível que familiares ou amigos comprem in...</td>\n",
       "      <td>sim, para a compra de ingressos no valor integ...</td>\n",
       "    </tr>\n",
       "    <tr>\n",
       "      <th>3</th>\n",
       "      <td>compra e pagamento</td>\n",
       "      <td>quais as formas de pagamento disponíveis?</td>\n",
       "      <td>uhuu: são aceitos na bilheteria do teatro, pel...</td>\n",
       "    </tr>\n",
       "    <tr>\n",
       "      <th>4</th>\n",
       "      <td>compra e pagamento</td>\n",
       "      <td>é possível parcelar no cartão de crédito?</td>\n",
       "      <td>via de regra, não é possível. em casos especia...</td>\n",
       "    </tr>\n",
       "  </tbody>\n",
       "</table>\n",
       "</div>"
      ],
      "text/plain": [
       "            Categoria                                           Pergunta  \\\n",
       "0  compra e pagamento  onde posso comprar ingressos para shows e espe...   \n",
       "1  compra e pagamento          posso comprar ingressos no dia do evento?   \n",
       "2  compra e pagamento  é possível que familiares ou amigos comprem in...   \n",
       "3  compra e pagamento          quais as formas de pagamento disponíveis?   \n",
       "4  compra e pagamento          é possível parcelar no cartão de crédito?   \n",
       "\n",
       "                                            Resposta  \n",
       "0  ingressos podem ser adquiridos nos canais de v...  \n",
       "1  sim! é possível comprar no dia do evento, poré...  \n",
       "2  sim, para a compra de ingressos no valor integ...  \n",
       "3  uhuu: são aceitos na bilheteria do teatro, pel...  \n",
       "4  via de regra, não é possível. em casos especia...  "
      ]
     },
     "execution_count": 3,
     "metadata": {},
     "output_type": "execute_result"
    }
   ],
   "source": [
    "df = df.applymap(lambda s:s.lower() if isinstance(s, str) else s)\n",
    "df[:5]"
   ]
  },
  {
   "cell_type": "markdown",
   "metadata": {},
   "source": [
    "### Definindo a pesquisa"
   ]
  },
  {
   "cell_type": "code",
   "execution_count": 4,
   "metadata": {},
   "outputs": [
    {
     "data": {
      "text/plain": [
       "'onde|comprar|ingressos|para|shows|e|espetáculos?'"
      ]
     },
     "execution_count": 4,
     "metadata": {},
     "output_type": "execute_result"
    }
   ],
   "source": [
    "pesquisa = 'Onde comprar ingressos para shows e espetáculos?'.replace(' ','|').lower()\n",
    "pesquisa"
   ]
  },
  {
   "cell_type": "markdown",
   "metadata": {},
   "source": [
    "### Pesquisando com OR"
   ]
  },
  {
   "cell_type": "code",
   "execution_count": 8,
   "metadata": {
    "scrolled": false
   },
   "outputs": [
    {
     "name": "stdout",
     "output_type": "stream",
     "text": [
      "28\n"
     ]
    },
    {
     "data": {
      "text/plain": [
       "0     onde posso comprar ingressos para shows e espe...\n",
       "1             posso comprar ingressos no dia do evento?\n",
       "2     é possível que familiares ou amigos comprem in...\n",
       "3             quais as formas de pagamento disponíveis?\n",
       "4             é possível parcelar no cartão de crédito?\n",
       "5     tenho receio de informar meus dados pessoais. ...\n",
       "6     como sei que a compra online foi efetuada? não...\n",
       "7         é fornecida nota fiscal na venda de ingresso?\n",
       "8     é possível conseguir uma nota fiscal apenas na...\n",
       "9                     como devo conservar meu ingresso?\n",
       "10    o que é a taxa de conveniência? por que ela é ...\n",
       "11    há possibilidade de devolução de taxas em caso...\n",
       "12    é possível trocar de sessão ou de espetáculo? ...\n",
       "13    é possível trocar o assento do meu ingresso no...\n",
       "14    é permitido fotografar ou filmar durante o sho...\n",
       "15         é permitido fumar em algum espaço do teatro?\n",
       "16    é permitida a entrada de alimentos e bebidas n...\n",
       "17    vou me atrasar para o início do evento. podere...\n",
       "18    há alguma restrição em relação a menores de id...\n",
       "19    nos espetáculos infantis, são permitidas crian...\n",
       "20              crianças de colo pagam ingresso normal?\n",
       "21    posso levar meu animal de estimação para o tea...\n",
       "22    é possível locar o teatro para eventos particu...\n",
       "23    para quais tipos de eventos o espaço pode ser ...\n",
       "24    o teatro possui acessibilidade para cadeirante...\n",
       "25              há estacionamento no local do teatro?\\n\n",
       "26                         há guarda-volumes no teatro?\n",
       "27           e quanto à segurança estrutural do teatro?\n",
       "Name: Pergunta, dtype: object"
      ]
     },
     "execution_count": 8,
     "metadata": {},
     "output_type": "execute_result"
    }
   ],
   "source": [
    "pesquisa = 'Onde compro ingressos para shows e espetáculos?'.replace(' ','|').lower()\n",
    "result = df.Pergunta[df.Pergunta.str.contains(pesquisa)]\n",
    "print(len(result))\n",
    "result"
   ]
  },
  {
   "cell_type": "markdown",
   "metadata": {},
   "source": [
    "### Pesquisando com AND"
   ]
  },
  {
   "cell_type": "code",
   "execution_count": 7,
   "metadata": {},
   "outputs": [
    {
     "name": "stdout",
     "output_type": "stream",
     "text": [
      "onde|compro|ingressos|para|shows|e|espetáculos?\n"
     ]
    },
    {
     "data": {
      "text/html": [
       "<div>\n",
       "<style scoped>\n",
       "    .dataframe tbody tr th:only-of-type {\n",
       "        vertical-align: middle;\n",
       "    }\n",
       "\n",
       "    .dataframe tbody tr th {\n",
       "        vertical-align: top;\n",
       "    }\n",
       "\n",
       "    .dataframe thead th {\n",
       "        text-align: right;\n",
       "    }\n",
       "</style>\n",
       "<table border=\"1\" class=\"dataframe\">\n",
       "  <thead>\n",
       "    <tr style=\"text-align: right;\">\n",
       "      <th></th>\n",
       "      <th>Categoria</th>\n",
       "      <th>Pergunta</th>\n",
       "      <th>Resposta</th>\n",
       "    </tr>\n",
       "  </thead>\n",
       "  <tbody>\n",
       "  </tbody>\n",
       "</table>\n",
       "</div>"
      ],
      "text/plain": [
       "Empty DataFrame\n",
       "Columns: [Categoria, Pergunta, Resposta]\n",
       "Index: []"
      ]
     },
     "execution_count": 7,
     "metadata": {},
     "output_type": "execute_result"
    }
   ],
   "source": [
    "pesquisa = 'Onde compro ingressos para shows e espetáculos?'.replace(' ','|').lower()\n",
    "print(pesquisa)\n",
    "expr = '(?=.*{})'\n",
    "words = pesquisa.split('|')\n",
    "base = r'^{}'.format(''.join(expr.format(w) for w in words))\n",
    "df[df.Pergunta.str.contains(base)]"
   ]
  },
  {
   "cell_type": "markdown",
   "metadata": {},
   "source": [
    "\n",
    "\n",
    "# Uso de PLN para seleção de Palavras Chaves"
   ]
  },
  {
   "cell_type": "markdown",
   "metadata": {},
   "source": [
    "## Extraindo palavras chaves com TF-IDF\n",
    "\n",
    "Adaptado de:\n",
    "1. https://kavita-ganesan.com/extracting-keywords-from-text-tfidf\n",
    "2. https://kavita-ganesan.com/tfidftransformer-tfidfvectorizer-usage-differences/#.XVbOe_x7mV4"
   ]
  },
  {
   "cell_type": "code",
   "execution_count": 20,
   "metadata": {
    "scrolled": true
   },
   "outputs": [
    {
     "data": {
      "text/plain": [
       "['ingressos podem ser adquiridos nos canais de venda oficiais: pela internet, via uhuu; na bilheteria do teatro ou demais pontos de vendas físicos. consulte os horários e endereços dos canais de venda oficiais aqui.\\natenção:\\xa0compras que não forem realizadas na bilheteria do teatro\\xa0estão sujeitas à cobrança de taxa de conveniência.\\xa0',\n",
       " 'sim! é possível comprar no dia do evento, porém a compra estará sujeita à disponibilidade de ingressos no momento. consulte os horários e endereços dos canais de venda oficiais aqui.\\nos ingressos adquiridos pela internet, via uhuu.com, são enviados por e-mail e podem também ser acessados através do site ou do app da uhuu em \"meus pedidos\", podendo apresentar impresso ou no celular.',\n",
       " 'sim, para a compra de ingressos no valor integral, é possível! para ingressos com descontos ou benefícios de meia-entrada, consulte a bilheteria e verifique quais as condições e documentos exigidos para compra de terceiros. algumas modalidades de descontos e benefícios exigem a presença do titular para a compra.',\n",
       " 'uhuu: são aceitos na bilheteria do teatro, pela internet e demais canais de venda oficiais, pagamentos em dinheiro, cartão de crédito e cartão de débito. cartões de créditos aceitos: visa, mastercard, diners, hipercard, american express e elo. cartões de débito são aceitos somente na bilheteria do teatro: visa, mastercard, diners, hipercard, american express e elo.',\n",
       " 'via de regra, não é possível. em casos especiais, se houver a condição de parcelamento, ela será divulgada no site.',\n",
       " 'seus dados estão seguros, fique tranquilo! as aquisições de ingressos efetuadas online ou por telefone, bem como os dados pessoais exigidos para esta modalidade de compra, são de responsabilidade da uhuu.\\nconfira como a uhuu protege as suas informações em https://uhuu.com/privacidade.',\n",
       " 'compras efetuadas pela internet estarão sujeitas à disponibilidade de ingressos e à aprovação da operadora de seu cartão de crédito. caso você não receba a confirmação da compra do ingresso por e-mail, solicitamos que entre em contato com a uhuu através do email falecom@uhuu.com.',\n",
       " 'o ingresso é o próprio comprovante fiscal do cliente.',\n",
       " 'infelizmente não é possível, pois cada ingresso é o comprovante fiscal do cliente.',\n",
       " 'a guarda e conservação dos ingressos são de inteira responsabilidade do cliente. guarde-os em um lugar seguro, longe do calor, umidade ou luz solar. evite dobrá-los ou deixá-los em contato com outros materiais que possam danificá-los. o teatro e a uhuu não se responsabilizam pela perda, extravio ou roubo de ingressos e, por questões de segurança, não realizamos a sua reimpressão.',\n",
       " 'a taxa de conveniência é cobrada para garantir a você atendimento em ambiente virtual ou em outras localidades e cidades, proporcionando um serviço seguro e prático para compras imediatas de ingressos, além da comodidade de adquirir ingressos sem grandes deslocamentos. pela internet, por exemplo, é possível comprar em qualquer horário, garantindo assentos tão logo a venda de ingressos é disponibilizada.\\ncompras realizadas pelos canais de venda oficiais que não sejam a bilheteria do teatro, estão sujeitas à cobrança de taxa de conveniência.',\n",
       " 'infelizmente não é possível a devolução de taxas na ocorrência de desistência, pois o serviço foi realizado, mesmo embora ocorra desistência ou arrependimento da compra. \\nno caso de cancelamento do evento, a taxa será reembolsada.',\n",
       " 'não é possível realizar a troca de sessão ou espetáculo.\\n\\npara mais informações consultar o serviço de atendimento da uhuu através do falecom@uhuu.com.',\n",
       " 'não é possível realizar troca de assentos ou setor no dia do espetáculo.\\npara mais informações consultar o serviço de atendimento da uhuu através do falecom@uhuu.com.',\n",
       " 'a utilização de câmeras, celulares e outros aparelhos de gravação de áudio e vídeo ou de fotografia durante os espetáculos não é permitida, em respeito ao nosso público e artistas. contamos com a sua compreensão!',\n",
       " 'não. é expressamente proibido fumar nas dependências do teatro.',\n",
       " 'não é permitido acessar o teatro portando alimentos ou bebidas. esta condição poderá ser alterada sem prévio aviso, pela administradora do teatro.',\n",
       " 'salientamos que não é permitida a entrada após o início do evento, em respeito ao nosso público e artistas. para sua comodidade, recomendamos que chegue pelo menos 30 (trinta) minutos antes do horário marcado em seu ingresso. antecipe-se para evitar imprevistos e ter uma experiência ainda mais agradável!',\n",
       " 'sim, todos os espetáculos possuem classificação etária, podendo ser livre ou com restrição de idade. além da classificação etária, alguns eventos podem ter restrições expressas quanto ao acesso de menores. verifique na página de cada evento.',\n",
       " 'em espetáculos onde a classificação etária é livre, são permitidas crianças no colo, desde que tenham até 24 meses de idade. pedimos a gentileza de que respeite este limite de idade!',\n",
       " 'crianças com até 24 meses incompletos estão isentas de ingresso se assistirem ao espetáculo/show sentadas no colo. pedimos a gentileza de que respeite este limite de idade!',\n",
       " 'não é possível acessar o teatro com animais de estimação.',\n",
       " 'sim! você pode realizar o seu evento conosco! nosso espaço é um dos teatros mais modernos da região e conta ambientes de alto padrão, excelência em comodidade e segurança. para mais informações sobre locações, entre em contato agora mesmo.',\n",
       " 'nosso teatro recebe shows e espetáculos de diferente portes, além de eventos corporativos e sociais. para mais informações sobre locações, entre em contato.',\n",
       " 'sim! nosso teatro está apto e preparado para receber pessoas com necessidades especiais. consulte o mapa do teatro e verifique os espaços e assentos reservados para pnes. também possuímos um elevador para facilitar o acesso.',\n",
       " 'sim, venha tranquilo! nosso teatro dispõe de estacionamento e edifício garagem, ambos administrados pela empresa indigo, responsável pela cobrança de ticket e pela operação do estacionamento.',\n",
       " 'sim! você pode deixar seus pertences no guarda-volumes do teatro e retirar na saída do evento.',\n",
       " 'nosso teatro conta com um alto padrão de segurança, em conformidade com todos os requisitos de segurança exigidos, certificado de ppci e álvara de funcionamento. sua experiência em nossa casa será segura!']"
      ]
     },
     "execution_count": 20,
     "metadata": {},
     "output_type": "execute_result"
    }
   ],
   "source": [
    "from sklearn.feature_extraction.text import TfidfVectorizer\n",
    "\n",
    "tfidf_vectorizer=TfidfVectorizer(max_df=0.85, use_idf=True)\n",
    "\n",
    "docs = df['Resposta'].tolist()\n",
    "\n",
    "docs"
   ]
  },
  {
   "cell_type": "code",
   "execution_count": 21,
   "metadata": {},
   "outputs": [],
   "source": [
    "# Calculando TF-IDF com base nos documentos do corpus\n",
    "tfidf_corpus=tfidf_vectorizer.fit_transform(docs)\n",
    "\n",
    "palavras_corpus = tfidf_vectorizer.get_feature_names()"
   ]
  },
  {
   "cell_type": "code",
   "execution_count": 23,
   "metadata": {},
   "outputs": [
    {
     "data": {
      "text/plain": [
       "'onde posso comprar ingressos para shows e espetáculos?'"
      ]
     },
     "execution_count": 23,
     "metadata": {},
     "output_type": "execute_result"
    }
   ],
   "source": [
    "pergunta = df['Pergunta'].tolist()[0]\n",
    "pergunta"
   ]
  },
  {
   "cell_type": "code",
   "execution_count": 24,
   "metadata": {},
   "outputs": [
    {
     "name": "stdout",
     "output_type": "stream",
     "text": [
      "0.4963882172857802 shows\n",
      "0.4963882172857802 onde\n",
      "0.4416086965342688 comprar\n",
      "0.3725946622859065 espetáculos\n",
      "0.30909579876672033 ingressos\n",
      "0.27894845302637655 para\n"
     ]
    }
   ],
   "source": [
    "tfidf_pergunta = tfidf_vectorizer.transform([pergunta])\n",
    "tuplas = zip(tfidf_pergunta.tocoo().col, tfidf_pergunta.tocoo().data)\n",
    "tuplas_ordenadas = sorted(tuplas, key=lambda x: (x[1], x[0]),reverse=True)\n",
    "\n",
    "for indice,score in tuplas_ordenadas :\n",
    "    print(score,palavras_corpus[indice])"
   ]
  },
  {
   "cell_type": "markdown",
   "metadata": {},
   "source": [
    "#### Removendo STOP WORDS"
   ]
  },
  {
   "cell_type": "code",
   "execution_count": 25,
   "metadata": {},
   "outputs": [
    {
     "data": {
      "text/plain": [
       "['de',\n",
       " 'a',\n",
       " 'o',\n",
       " 'que',\n",
       " 'e',\n",
       " 'do',\n",
       " 'da',\n",
       " 'em',\n",
       " 'um',\n",
       " 'para',\n",
       " 'com',\n",
       " 'não',\n",
       " 'uma',\n",
       " 'os',\n",
       " 'no',\n",
       " 'se',\n",
       " 'na',\n",
       " 'por',\n",
       " 'mais',\n",
       " 'as',\n",
       " 'dos',\n",
       " 'como',\n",
       " 'mas',\n",
       " 'ao',\n",
       " 'ele',\n",
       " 'das',\n",
       " 'à',\n",
       " 'seu',\n",
       " 'sua',\n",
       " 'ou',\n",
       " 'quando',\n",
       " 'muito',\n",
       " 'nos',\n",
       " 'já',\n",
       " 'eu',\n",
       " 'também',\n",
       " 'só',\n",
       " 'pelo',\n",
       " 'pela',\n",
       " 'até',\n",
       " 'isso',\n",
       " 'ela',\n",
       " 'entre',\n",
       " 'depois',\n",
       " 'sem',\n",
       " 'mesmo',\n",
       " 'aos',\n",
       " 'seus',\n",
       " 'quem',\n",
       " 'nas',\n",
       " 'me',\n",
       " 'esse',\n",
       " 'eles',\n",
       " 'você',\n",
       " 'essa',\n",
       " 'num',\n",
       " 'nem',\n",
       " 'suas',\n",
       " 'meu',\n",
       " 'às',\n",
       " 'minha',\n",
       " 'numa',\n",
       " 'pelos',\n",
       " 'elas',\n",
       " 'qual',\n",
       " 'nós',\n",
       " 'lhe',\n",
       " 'deles',\n",
       " 'essas',\n",
       " 'esses',\n",
       " 'pelas',\n",
       " 'este',\n",
       " 'dele',\n",
       " 'tu',\n",
       " 'te',\n",
       " 'vocês',\n",
       " 'vos',\n",
       " 'lhes',\n",
       " 'meus',\n",
       " 'minhas',\n",
       " 'teu',\n",
       " 'tua',\n",
       " 'teus',\n",
       " 'tuas',\n",
       " 'nosso',\n",
       " 'nossa',\n",
       " 'nossos',\n",
       " 'nossas',\n",
       " 'dela',\n",
       " 'delas',\n",
       " 'esta',\n",
       " 'estes',\n",
       " 'estas',\n",
       " 'aquele',\n",
       " 'aquela',\n",
       " 'aqueles',\n",
       " 'aquelas',\n",
       " 'isto',\n",
       " 'aquilo',\n",
       " 'estou',\n",
       " 'está',\n",
       " 'estamos',\n",
       " 'estão',\n",
       " 'estive',\n",
       " 'esteve',\n",
       " 'estivemos',\n",
       " 'estiveram',\n",
       " 'estava',\n",
       " 'estávamos',\n",
       " 'estavam',\n",
       " 'estivera',\n",
       " 'estivéramos',\n",
       " 'esteja',\n",
       " 'estejamos',\n",
       " 'estejam',\n",
       " 'estivesse',\n",
       " 'estivéssemos',\n",
       " 'estivessem',\n",
       " 'estiver',\n",
       " 'estivermos',\n",
       " 'estiverem',\n",
       " 'hei',\n",
       " 'há',\n",
       " 'havemos',\n",
       " 'hão',\n",
       " 'houve',\n",
       " 'houvemos',\n",
       " 'houveram',\n",
       " 'houvera',\n",
       " 'houvéramos',\n",
       " 'haja',\n",
       " 'hajamos',\n",
       " 'hajam',\n",
       " 'houvesse',\n",
       " 'houvéssemos',\n",
       " 'houvessem',\n",
       " 'houver',\n",
       " 'houvermos',\n",
       " 'houverem',\n",
       " 'houverei',\n",
       " 'houverá',\n",
       " 'houveremos',\n",
       " 'houverão',\n",
       " 'houveria',\n",
       " 'houveríamos',\n",
       " 'houveriam',\n",
       " 'sou',\n",
       " 'somos',\n",
       " 'são',\n",
       " 'era',\n",
       " 'éramos',\n",
       " 'eram',\n",
       " 'fui',\n",
       " 'foi',\n",
       " 'fomos',\n",
       " 'foram',\n",
       " 'fora',\n",
       " 'fôramos',\n",
       " 'seja',\n",
       " 'sejamos',\n",
       " 'sejam',\n",
       " 'fosse',\n",
       " 'fôssemos',\n",
       " 'fossem',\n",
       " 'for',\n",
       " 'formos',\n",
       " 'forem',\n",
       " 'serei',\n",
       " 'será',\n",
       " 'seremos',\n",
       " 'serão',\n",
       " 'seria',\n",
       " 'seríamos',\n",
       " 'seriam',\n",
       " 'tenho',\n",
       " 'tem',\n",
       " 'temos',\n",
       " 'tém',\n",
       " 'tinha',\n",
       " 'tínhamos',\n",
       " 'tinham',\n",
       " 'tive',\n",
       " 'teve',\n",
       " 'tivemos',\n",
       " 'tiveram',\n",
       " 'tivera',\n",
       " 'tivéramos',\n",
       " 'tenha',\n",
       " 'tenhamos',\n",
       " 'tenham',\n",
       " 'tivesse',\n",
       " 'tivéssemos',\n",
       " 'tivessem',\n",
       " 'tiver',\n",
       " 'tivermos',\n",
       " 'tiverem',\n",
       " 'terei',\n",
       " 'terá',\n",
       " 'teremos',\n",
       " 'terão',\n",
       " 'teria',\n",
       " 'teríamos',\n",
       " 'teriam']"
      ]
     },
     "execution_count": 25,
     "metadata": {},
     "output_type": "execute_result"
    }
   ],
   "source": [
    "from nltk.corpus import stopwords\n",
    "stopwords.words('portuguese')"
   ]
  },
  {
   "cell_type": "code",
   "execution_count": 26,
   "metadata": {},
   "outputs": [],
   "source": [
    "docs = df['Pergunta'].tolist()\n",
    "tfidf_vectorizer=TfidfVectorizer(max_df=0.85, stop_words=stopwords.words('portuguese'), use_idf=True)\n",
    "tfidf_corpus=tfidf_vectorizer.fit_transform(docs)"
   ]
  },
  {
   "cell_type": "code",
   "execution_count": 27,
   "metadata": {},
   "outputs": [
    {
     "data": {
      "text/plain": [
       "'onde posso comprar ingressos para shows e espetáculos?'"
      ]
     },
     "execution_count": 27,
     "metadata": {},
     "output_type": "execute_result"
    }
   ],
   "source": [
    "pergunta = df['Pergunta'].tolist()[0]\n",
    "pergunta"
   ]
  },
  {
   "cell_type": "code",
   "execution_count": 28,
   "metadata": {},
   "outputs": [
    {
     "name": "stdout",
     "output_type": "stream",
     "text": [
      "0.4784717713138658 onde\n",
      "0.4256694415788503 shows\n",
      "0.4256694415788503 comprar\n",
      "0.3882055924221941 espetáculos\n",
      "0.3591463734188364 posso\n",
      "0.3591463734188364 ingressos\n"
     ]
    }
   ],
   "source": [
    "tfidf_pergunta = tfidf_vectorizer.transform([pergunta])\n",
    "palavras = tfidf_vectorizer.get_feature_names()\n",
    "tuplas = zip(tfidf_pergunta.tocoo().col, tfidf_pergunta.tocoo().data)\n",
    "tuplas_ordenadas = sorted(tuplas, key=lambda x: (x[1], x[0]),reverse=True)\n",
    "\n",
    "for i,score in tuplas_ordenadas :\n",
    "    print(score,palavras[i])"
   ]
  },
  {
   "cell_type": "code",
   "execution_count": 29,
   "metadata": {},
   "outputs": [
    {
     "data": {
      "text/plain": [
       "['onde', 'shows', 'comprar', 'espetáculos', 'posso', 'ingressos']"
      ]
     },
     "execution_count": 29,
     "metadata": {},
     "output_type": "execute_result"
    }
   ],
   "source": [
    "tfidf_pergunta = tfidf_vectorizer.transform([pergunta])\n",
    "palavras = tfidf_vectorizer.get_feature_names()\n",
    "tuplas = zip(tfidf_pergunta.tocoo().col, tfidf_pergunta.tocoo().data)\n",
    "tuplas_ordenadas = sorted(tuplas, key=lambda x: (x[1], x[0]),reverse=True)\n",
    "\n",
    "palavras_chaves = []\n",
    "for i,score in tuplas_ordenadas :\n",
    "    palavras_chaves.append(palavras[i])\n",
    "palavras_chaves"
   ]
  },
  {
   "cell_type": "markdown",
   "metadata": {},
   "source": [
    "#### Pesquisando com OR + PALAVRAS CHAVES TF-IDF"
   ]
  },
  {
   "cell_type": "code",
   "execution_count": 30,
   "metadata": {},
   "outputs": [
    {
     "name": "stdout",
     "output_type": "stream",
     "text": [
      "onde|shows|comprar|espetáculos|posso|ingressos\n",
      "8\n"
     ]
    },
    {
     "data": {
      "text/plain": [
       "0     onde posso comprar ingressos para shows e espe...\n",
       "1             posso comprar ingressos no dia do evento?\n",
       "2     é possível que familiares ou amigos comprem in...\n",
       "8     é possível conseguir uma nota fiscal apenas na...\n",
       "13    é possível trocar o assento do meu ingresso no...\n",
       "18    há alguma restrição em relação a menores de id...\n",
       "19    nos espetáculos infantis, são permitidas crian...\n",
       "21    posso levar meu animal de estimação para o tea...\n",
       "Name: Pergunta, dtype: object"
      ]
     },
     "execution_count": 30,
     "metadata": {},
     "output_type": "execute_result"
    }
   ],
   "source": [
    "pesquisa = '|'.join(palavras_chaves)\n",
    "print(pesquisa)\n",
    "result = df.Pergunta[df.Pergunta.str.contains(pesquisa)]\n",
    "print(len(result))\n",
    "result"
   ]
  },
  {
   "cell_type": "markdown",
   "metadata": {},
   "source": [
    "#### Juntando tudo (abordagem ESTATÍSTICA)"
   ]
  },
  {
   "cell_type": "code",
   "execution_count": 31,
   "metadata": {},
   "outputs": [
    {
     "name": "stdout",
     "output_type": "stream",
     "text": [
      "8\n"
     ]
    },
    {
     "data": {
      "text/plain": [
       "0     onde posso comprar ingressos para shows e espe...\n",
       "1             posso comprar ingressos no dia do evento?\n",
       "2     é possível que familiares ou amigos comprem in...\n",
       "8     é possível conseguir uma nota fiscal apenas na...\n",
       "13    é possível trocar o assento do meu ingresso no...\n",
       "18    há alguma restrição em relação a menores de id...\n",
       "19    nos espetáculos infantis, são permitidas crian...\n",
       "21    posso levar meu animal de estimação para o tea...\n",
       "Name: Pergunta, dtype: object"
      ]
     },
     "execution_count": 31,
     "metadata": {},
     "output_type": "execute_result"
    }
   ],
   "source": [
    "# carregando as bibliotecas\n",
    "from pandas_ods_reader import read_ods\n",
    "from sklearn.feature_extraction.text import TfidfVectorizer\n",
    "# carregando o corpus de perguntas\n",
    "df = read_ods(\"Perguntas+Respostas.ods\",1)\n",
    "df = df.applymap(lambda s:s.lower() if isinstance(s, str) else s)\n",
    "# calculando o TF-IDF do corpus\n",
    "tfidf_vectorizer=TfidfVectorizer(max_df=0.85, stop_words=stopwords.words('portuguese'), use_idf=True)\n",
    "docs = df['Pergunta'].tolist()\n",
    "tfidf_corpus=tfidf_vectorizer.fit_transform(docs)\n",
    "# definindo a pergunta\n",
    "pergunta = [\"Onde posso comprar ingressos para shows e espetáculos?\".lower()]\n",
    "# calculando TF-IDF da pergunta\n",
    "tfidf_pergunta = tfidf_vectorizer.transform(pergunta)\n",
    "# vocabulário da pergunta\n",
    "palavras = tfidf_vectorizer.get_feature_names()\n",
    "# selecionando palavras chaves\n",
    "palavras_chaves = [ palavras[i] for i in tfidf_pergunta.tocoo().col ]\n",
    "# pesquisando\n",
    "pesquisa = '|'.join([palavra for palavra in palavras_chaves])\n",
    "result = df.Pergunta[df.Pergunta.str.contains(pesquisa)]\n",
    "# apresentando o resultado\n",
    "print(len(result))\n",
    "result"
   ]
  },
  {
   "cell_type": "markdown",
   "metadata": {},
   "source": [
    "# Abordagem baseada em linguística"
   ]
  },
  {
   "cell_type": "code",
   "execution_count": 32,
   "metadata": {},
   "outputs": [],
   "source": [
    "import spacy\n",
    "nlp = spacy.load(\"pt_core_news_sm\")\n",
    "frase = (\"Onde posso comprar ingressos para shows e espetáculos?\".lower())\n",
    "frase = nlp(frase)"
   ]
  },
  {
   "cell_type": "code",
   "execution_count": 33,
   "metadata": {},
   "outputs": [],
   "source": [
    "frase = [palavra for palavra in frase]"
   ]
  },
  {
   "cell_type": "code",
   "execution_count": 34,
   "metadata": {},
   "outputs": [
    {
     "name": "stdout",
     "output_type": "stream",
     "text": [
      "ADV \t onde\n",
      "AUX \t posso\n",
      "VERB \t comprar\n",
      "NOUN \t ingressos\n",
      "ADP \t para\n",
      "NOUN \t shows\n",
      "CCONJ \t e\n",
      "NOUN \t espetáculos\n",
      "PUNCT \t ?\n"
     ]
    }
   ],
   "source": [
    "for palavra in frase :\n",
    "    print(palavra.pos_,'\\t',palavra.text)"
   ]
  },
  {
   "cell_type": "code",
   "execution_count": 35,
   "metadata": {},
   "outputs": [],
   "source": [
    "palavras_chaves = [palavra for palavra in frase if palavra.pos_ in ['VERB','NOUN','ADJ']]"
   ]
  },
  {
   "cell_type": "code",
   "execution_count": 36,
   "metadata": {},
   "outputs": [
    {
     "name": "stdout",
     "output_type": "stream",
     "text": [
      "VERB \t comprar\n",
      "NOUN \t ingressos\n",
      "NOUN \t shows\n",
      "NOUN \t espetáculos\n"
     ]
    }
   ],
   "source": [
    "for palavra in palavras_chaves :\n",
    "    print(palavra.pos_,'\\t',palavra.text)"
   ]
  },
  {
   "cell_type": "markdown",
   "metadata": {},
   "source": [
    "#### Selecionando as PALAVRAS CHAVES pela sua função sintática"
   ]
  },
  {
   "cell_type": "code",
   "execution_count": 37,
   "metadata": {},
   "outputs": [
    {
     "data": {
      "text/plain": [
       "'comprar|ingressos|shows|espetáculos'"
      ]
     },
     "execution_count": 37,
     "metadata": {},
     "output_type": "execute_result"
    }
   ],
   "source": [
    "pesquisa = '|'.join([palavra.text for palavra in palavras_chaves])\n",
    "pesquisa"
   ]
  },
  {
   "cell_type": "markdown",
   "metadata": {},
   "source": [
    "#### Pesquisando com OR + PALAVRAS CHAVES LINGUÍSTICA"
   ]
  },
  {
   "cell_type": "code",
   "execution_count": 38,
   "metadata": {},
   "outputs": [
    {
     "name": "stdout",
     "output_type": "stream",
     "text": [
      "6\n"
     ]
    },
    {
     "data": {
      "text/plain": [
       "0     onde posso comprar ingressos para shows e espe...\n",
       "1             posso comprar ingressos no dia do evento?\n",
       "2     é possível que familiares ou amigos comprem in...\n",
       "8     é possível conseguir uma nota fiscal apenas na...\n",
       "18    há alguma restrição em relação a menores de id...\n",
       "19    nos espetáculos infantis, são permitidas crian...\n",
       "Name: Pergunta, dtype: object"
      ]
     },
     "execution_count": 38,
     "metadata": {},
     "output_type": "execute_result"
    }
   ],
   "source": [
    "result = df.Pergunta[df.Pergunta.str.contains(pesquisa)]\n",
    "print(len(result))\n",
    "result"
   ]
  },
  {
   "cell_type": "markdown",
   "metadata": {},
   "source": [
    "#### Juntando tudo (abordagem LINGUÍSTICA)"
   ]
  },
  {
   "cell_type": "code",
   "execution_count": 39,
   "metadata": {},
   "outputs": [
    {
     "name": "stdout",
     "output_type": "stream",
     "text": [
      "Número de respostas encontradas: 6\n"
     ]
    },
    {
     "data": {
      "text/plain": [
       "0     onde posso comprar ingressos para shows e espe...\n",
       "1             posso comprar ingressos no dia do evento?\n",
       "2     é possível que familiares ou amigos comprem in...\n",
       "8     é possível conseguir uma nota fiscal apenas na...\n",
       "18    há alguma restrição em relação a menores de id...\n",
       "19    nos espetáculos infantis, são permitidas crian...\n",
       "Name: Pergunta, dtype: object"
      ]
     },
     "execution_count": 39,
     "metadata": {},
     "output_type": "execute_result"
    }
   ],
   "source": [
    "# carregando as bibliotecas\n",
    "import spacy\n",
    "from pandas_ods_reader import read_ods\n",
    "# carregando o corpus de perguntas\n",
    "df = read_ods(\"Perguntas+Respostas.ods\",1)\n",
    "df = df.applymap(lambda s:s.lower() if isinstance(s, str) else s)\n",
    "# inicializando o parser\n",
    "nlp = spacy.load(\"pt_core_news_sm\")\n",
    "# definindo a pergunta\n",
    "pergunta = \"Onde posso comprar ingressos para shows e espetáculos?\".lower()\n",
    "# analisando a pergunta\n",
    "pergunta = nlp(pergunta)\n",
    "# selecionando as palavras chaves\n",
    "palavras_chaves = [palavra for palavra in pergunta if palavra.pos_ in ['VERB','NOUN','ADJ']]\n",
    "# pesquisando\n",
    "pesquisa = '|'.join([palavra.text for palavra in palavras_chaves])\n",
    "resultado = df.Pergunta[df.Pergunta.str.contains(pesquisa)]\n",
    "# apresentando o resultado\n",
    "print('Número de respostas encontradas:',len(resultado))\n",
    "resultado"
   ]
  },
  {
   "cell_type": "code",
   "execution_count": null,
   "metadata": {},
   "outputs": [],
   "source": []
  }
 ],
 "metadata": {
  "kernelspec": {
   "display_name": "Python [conda env:RHVagas] *",
   "language": "python",
   "name": "conda-env-RHVagas-py"
  },
  "language_info": {
   "codemirror_mode": {
    "name": "ipython",
    "version": 3
   },
   "file_extension": ".py",
   "mimetype": "text/x-python",
   "name": "python",
   "nbconvert_exporter": "python",
   "pygments_lexer": "ipython3",
   "version": "3.7.3"
  }
 },
 "nbformat": 4,
 "nbformat_minor": 2
}
